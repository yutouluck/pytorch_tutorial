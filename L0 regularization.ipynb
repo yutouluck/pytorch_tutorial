{
 "cells": [
  {
   "cell_type": "code",
   "execution_count": 1,
   "id": "119df2ad",
   "metadata": {},
   "outputs": [],
   "source": [
    "import torch\n",
    "import math\n",
    "import torch.nn.functional as F\n",
    "from torch.nn.modules import Module\n",
    "from torch.nn.parameter import Parameter\n",
    "from torch.nn.modules.utils import _pair as pair\n",
    "from torch.autograd import Variable\n",
    "from torch.nn import init"
   ]
  },
  {
   "cell_type": "code",
   "execution_count": 2,
   "id": "87ffdb20",
   "metadata": {},
   "outputs": [],
   "source": [
    "limit_a, limit_b, epsilon = -.1, 1.1, 1e-6"
   ]
  },
  {
   "cell_type": "code",
   "execution_count": 68,
   "id": "b540c6a3",
   "metadata": {},
   "outputs": [],
   "source": [
    "class L0Dense(Module):\n",
    "    \"\"\"Implementation of L0 regularization for the input units of a fully connected layer\"\"\"\n",
    "    def __init__(self, in_features, out_features, bias=True, weight_decay=1., droprate_init=0.5, temperature=2./3.,\n",
    "                 lamba=1., local_rep=False, **kwargs):\n",
    "        \"\"\"\n",
    "        :param in_features: Input dimensionality\n",
    "        :param out_features: Output dimensionality\n",
    "        :param bias: Whether we use a bias\n",
    "        :param weight_decay: Strength of the L2 penalty\n",
    "        :param droprate_init: Dropout rate that the L0 gates will be initialized to\n",
    "        :param temperature: Temperature of the concrete distribution\n",
    "        :param lamba: Strength of the L0 penalty\n",
    "        :param local_rep: Whether we will use a separate gate sample per element in the minibatch\n",
    "        \"\"\"\n",
    "        super(L0Dense, self).__init__()\n",
    "        self.in_features = in_features\n",
    "        self.out_features = out_features\n",
    "        self.prior_prec = weight_decay\n",
    "        self.weights = Parameter(torch.Tensor(in_features, out_features))\n",
    "        self.qz_loga = Parameter(torch.Tensor(in_features))\n",
    "        self.temperature = temperature\n",
    "        self.droprate_init = droprate_init if droprate_init != 0. else 0.5\n",
    "        self.lamba = lamba\n",
    "        self.use_bias = False\n",
    "        self.local_rep = local_rep\n",
    "        if bias:\n",
    "            self.bias = Parameter(torch.Tensor(out_features))\n",
    "            self.use_bias = True\n",
    "        self.floatTensor = torch.FloatTensor if not torch.cuda.is_available() else torch.cuda.FloatTensor\n",
    "        self.reset_parameters()\n",
    "        print(self)\n",
    "\n",
    "    def reset_parameters(self):\n",
    "        init.kaiming_normal_(self.weights, mode='fan_out')\n",
    "\n",
    "        self.qz_loga.data.normal_(math.log(1 - self.droprate_init) - math.log(self.droprate_init), 1e-2)\n",
    "\n",
    "        if self.use_bias:\n",
    "            self.bias.data.fill_(0)\n",
    "\n",
    "    def constrain_parameters(self, **kwargs):\n",
    "        self.qz_loga.data.clamp_(min=math.log(1e-2), max=math.log(1e2))\n",
    "\n",
    "    def cdf_qz(self, x):\n",
    "        \"\"\"Implements the CDF of the 'stretched' concrete distribution\"\"\"\n",
    "        xn = (x - limit_a) / (limit_b - limit_a)\n",
    "        logits = math.log(xn) - math.log(1 - xn)\n",
    "        return F.sigmoid(logits * self.temperature - self.qz_loga).clamp(min=epsilon, max=1 - epsilon)\n",
    "\n",
    "    def quantile_concrete(self, x):\n",
    "        \"\"\"Implements the quantile, aka inverse CDF, of the 'stretched' concrete distribution\"\"\"\n",
    "        y = F.sigmoid((torch.log(x) - torch.log(1 - x) + self.qz_loga) / self.temperature)\n",
    "        return y * (limit_b - limit_a) + limit_a\n",
    "\n",
    "    def _reg_w(self):\n",
    "        \"\"\"Expected L0 norm under the stochastic gates, takes into account and re-weights also a potential L2 penalty\"\"\"\n",
    "        logpw_col = torch.sum(- (.5 * self.prior_prec * self.weights.pow(2)) - self.lamba, 1)\n",
    "        logpw = torch.sum((1 - self.cdf_qz(0)) * logpw_col)\n",
    "        logpb = 0 if not self.use_bias else - torch.sum(.5 * self.prior_prec * self.bias.pow(2))\n",
    "        return logpw + logpb\n",
    "\n",
    "    def regularization(self):\n",
    "        return self._reg_w()\n",
    "\n",
    "    def count_expected_flops_and_l0(self):\n",
    "        \"\"\"Measures the expected floating point operations (FLOPs) and the expected L0 norm\"\"\"\n",
    "        # dim_in multiplications and dim_in - 1 additions for each output neuron for the weights\n",
    "        # + the bias addition for each neuron\n",
    "        # total_flops = (2 * in_features - 1) * out_features + out_features\n",
    "        ppos = torch.sum(1 - self.cdf_qz(0))\n",
    "        expected_flops = (2 * ppos - 1) * self.out_features\n",
    "        expected_l0 = ppos * self.out_features\n",
    "        if self.use_bias:\n",
    "            expected_flops += self.out_features\n",
    "            expected_l0 += self.out_features\n",
    "        return expected_flops.data[0], expected_l0.data[0]\n",
    "\n",
    "    def get_eps(self, size):\n",
    "        \"\"\"Uniform random numbers for the concrete distribution\"\"\"\n",
    "        eps = self.floatTensor(size).uniform_(epsilon, 1-epsilon)\n",
    "        eps = Variable(eps)\n",
    "        return eps\n",
    "\n",
    "    def sample_z(self, batch_size, sample=True):\n",
    "        \"\"\"Sample the hard-concrete gates for training and use a deterministic value for testing\"\"\"\n",
    "        if sample:\n",
    "            eps = self.get_eps(self.floatTensor(batch_size, self.in_features))\n",
    "            z = self.quantile_concrete(eps)\n",
    "            return F.hardtanh(z, min_val=0, max_val=1)\n",
    "        else:  # mode\n",
    "            pi = F.sigmoid(self.qz_loga).view(1, self.in_features).expand(batch_size, self.in_features)\n",
    "            return F.hardtanh(pi * (limit_b - limit_a) + limit_a, min_val=0, max_val=1)\n",
    "\n",
    "    def sample_weights(self):\n",
    "        z = self.quantile_concrete(self.get_eps(self.floatTensor(self.in_features)))\n",
    "        mask = F.hardtanh(z, min_val=0, max_val=1)\n",
    "        return mask.view(self.in_features, 1) * self.weights\n",
    "\n",
    "    def forward(self, input):\n",
    "        if self.local_rep or not self.training:\n",
    "            z = self.sample_z(input.size(0), sample=self.training)\n",
    "            xin = input.mul(z)\n",
    "            output = xin.mm(self.weights)\n",
    "        else:\n",
    "            weights = self.sample_weights()\n",
    "            output = input.mm(weights)\n",
    "        if self.use_bias:\n",
    "            output.add_(self.bias)\n",
    "        return output\n",
    "\n",
    "    def __repr__(self):\n",
    "        s = ('{name}({in_features} -> {out_features}, droprate_init={droprate_init}, '\n",
    "             'lamba={lamba}, temperature={temperature}, weight_decay={prior_prec}, '\n",
    "             'local_rep={local_rep}')\n",
    "        if not self.use_bias:\n",
    "            s += ', bias=False'\n",
    "        s += ')'\n",
    "        return s.format(name=self.__class__.__name__, **self.__dict__)\n",
    "    "
   ]
  },
  {
   "cell_type": "code",
   "execution_count": null,
   "id": "395298ae",
   "metadata": {},
   "outputs": [],
   "source": [
    "class simple(Module):\n",
    "    def __init__(self, in_features, out_features):\n",
    "        self.linear_layer = torch.nn.linear_layer()"
   ]
  },
  {
   "cell_type": "code",
   "execution_count": 409,
   "id": "48042a99",
   "metadata": {},
   "outputs": [],
   "source": [
    "N = 10000\n",
    "feature1 = torch.randn((N, 1))\n",
    "feature2 = torch.randn((N, 1))\n",
    "y = feature1 + 0.5 * feature2 + torch.randn((N, 1)) * 1"
   ]
  },
  {
   "cell_type": "code",
   "execution_count": 410,
   "id": "208f7574",
   "metadata": {},
   "outputs": [
    {
     "data": {
      "text/plain": [
       "tensor([[1.0000, 0.3297],\n",
       "        [0.3297, 1.0000]])"
      ]
     },
     "execution_count": 410,
     "metadata": {},
     "output_type": "execute_result"
    }
   ],
   "source": [
    "torch.corrcoef(torch.concat([feature2, y], dim=1).T)"
   ]
  },
  {
   "cell_type": "code",
   "execution_count": 411,
   "id": "b8c81bcc",
   "metadata": {},
   "outputs": [
    {
     "data": {
      "text/plain": [
       "tensor([[1.0166, 0.4998],\n",
       "        [0.4998, 2.2603]])"
      ]
     },
     "execution_count": 411,
     "metadata": {},
     "output_type": "execute_result"
    }
   ],
   "source": [
    "torch.cov(torch.concat([feature2, y], dim=1).T)"
   ]
  },
  {
   "cell_type": "code",
   "execution_count": 412,
   "id": "6b555e1a",
   "metadata": {},
   "outputs": [
    {
     "data": {
      "text/plain": [
       "tensor([[1.0055, 1.0136],\n",
       "        [1.0136, 2.2603]])"
      ]
     },
     "execution_count": 412,
     "metadata": {},
     "output_type": "execute_result"
    }
   ],
   "source": [
    "torch.cov(torch.concat([feature1, y], dim=1).T)"
   ]
  },
  {
   "cell_type": "code",
   "execution_count": 388,
   "id": "9b181f7f",
   "metadata": {},
   "outputs": [],
   "source": [
    "model = torch.nn.Linear(2, 1)"
   ]
  },
  {
   "cell_type": "code",
   "execution_count": 413,
   "id": "ad8ce115",
   "metadata": {},
   "outputs": [],
   "source": [
    "input_x = torch.concat([feature1, feature2], dim=1)"
   ]
  },
  {
   "cell_type": "code",
   "execution_count": 354,
   "id": "c0e68d77",
   "metadata": {},
   "outputs": [],
   "source": [
    "def train(input_x, y, model, criterion, optimizer):\n",
    "    optimizer.zero_grad()\n",
    "    y_pred = model(input_x)\n",
    "    loss = criterion(y_pred, y)\n",
    "    loss.backward()\n",
    "    optimizer.step()\n",
    "    return loss.item()\n",
    "        "
   ]
  },
  {
   "cell_type": "code",
   "execution_count": 414,
   "id": "7541dbac",
   "metadata": {},
   "outputs": [],
   "source": [
    "criterion = torch.nn.MSELoss()\n",
    "optimizer = torch.optim.Adam(model.parameters(), lr=1e-3)"
   ]
  },
  {
   "cell_type": "code",
   "execution_count": 415,
   "id": "ab37862b",
   "metadata": {},
   "outputs": [
    {
     "data": {
      "text/plain": [
       "[('weight',\n",
       "  Parameter containing:\n",
       "  tensor([[0.7064, 0.4678]], requires_grad=True)),\n",
       " ('bias',\n",
       "  Parameter containing:\n",
       "  tensor([0.0081], requires_grad=True))]"
      ]
     },
     "execution_count": 415,
     "metadata": {},
     "output_type": "execute_result"
    }
   ],
   "source": [
    "list(model.named_parameters())"
   ]
  },
  {
   "cell_type": "code",
   "execution_count": 416,
   "id": "2d100dbb",
   "metadata": {},
   "outputs": [],
   "source": [
    "losses = []\n",
    "for epoch in range(1000):\n",
    "    loss = train(input_x, y, model, criterion, optimizer)\n",
    "    losses.append(loss)\n",
    "    "
   ]
  },
  {
   "cell_type": "code",
   "execution_count": 356,
   "id": "8660d661",
   "metadata": {},
   "outputs": [],
   "source": [
    "import matplotlib.pyplot as plt"
   ]
  },
  {
   "cell_type": "code",
   "execution_count": 417,
   "id": "636cd792",
   "metadata": {},
   "outputs": [
    {
     "data": {
      "text/plain": [
       "[<matplotlib.lines.Line2D at 0x7f7c42603250>]"
      ]
     },
     "execution_count": 417,
     "metadata": {},
     "output_type": "execute_result"
    },
    {
     "data": {
      "image/png": "[encoded data removed]",
      "text/plain": [
       "<Figure size 432x288 with 1 Axes>"
      ]
     },
     "metadata": {
      "needs_background": "light"
     },
     "output_type": "display_data"
    }
   ],
   "source": [
    "plt.plot(range(len(losses)), losses)"
   ]
  },
  {
   "cell_type": "code",
   "execution_count": 418,
   "id": "9ba8c4ef",
   "metadata": {},
   "outputs": [
    {
     "data": {
      "text/plain": [
       "[('weight',\n",
       "  Parameter containing:\n",
       "  tensor([[1.0087, 0.4931]], requires_grad=True)),\n",
       " ('bias',\n",
       "  Parameter containing:\n",
       "  tensor([-0.0175], requires_grad=True))]"
      ]
     },
     "execution_count": 418,
     "metadata": {},
     "output_type": "execute_result"
    }
   ],
   "source": [
    "list(model.named_parameters())"
   ]
  },
  {
   "cell_type": "code",
   "execution_count": null,
   "id": "27cb4f6e",
   "metadata": {},
   "outputs": [],
   "source": []
  }
 ],
 "metadata": {
  "kernelspec": {
   "display_name": "Python 3",
   "language": "python",
   "name": "python3"
  },
  "language_info": {
   "codemirror_mode": {
    "name": "ipython",
    "version": 3
   },
   "file_extension": ".py",
   "mimetype": "text/x-python",
   "name": "python",
   "nbconvert_exporter": "python",
   "pygments_lexer": "ipython3",
   "version": "3.8.8"
  }
 },
 "nbformat": 4,
 "nbformat_minor": 5
}
